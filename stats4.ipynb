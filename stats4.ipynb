{
 "cells": [
  {
   "cell_type": "code",
   "execution_count": 25,
   "metadata": {},
   "outputs": [],
   "source": [
    "import numpy as np       #importing libraries\n",
    "import pandas as pd"
   ]
  },
  {
   "cell_type": "code",
   "execution_count": 26,
   "metadata": {},
   "outputs": [
    {
     "name": "stdout",
     "output_type": "stream",
     "text": [
      "[50.886, 49.868, 50.377, 49.868, 201.0]\n",
      "[49.114, 48.132, 48.623, 48.132, 194.0]\n"
     ]
    }
   ],
   "source": [
    "#1.This test is performed by using a Chi-square test of independence.\n",
    "#we can summarize 2 categorical variables within a 2-way table, also called a r × c contingency table\n",
    "#where r = number of rows, c = number of columns. \n",
    "#Our question is “Are the 2 variables independent?”\n",
    "#This question can be set up using the following hypothesis statements:\n",
    "#Null Hypothesis:\n",
    "#The 2 categorical variables are independent\n",
    "\n",
    "#Alternative Hypothesis:\n",
    "#The 2 categorical variables are dependent\n",
    "female_survey = [60, 54, 46, 41, 201]     #storing female & male surveyed records in lists\n",
    "male_survey = [40, 44, 53, 57, 194]\n",
    "female_expected = []    #lists for expected records\n",
    "male_expected = []\n",
    "sample_size = sum(female_survey) + sum(male_survey)     #sample size\n",
    "for i in range(len(female_survey)):      #calculating expected values for each record\n",
    "    female_expected.append(round(sum(female_survey)*(female_survey[i]+male_survey[i])/sample_size,3))\n",
    "    male_expected.append(round(sum(male_survey)*(female_survey[i]+male_survey[i])/sample_size,3))\n",
    "\n",
    "print(female_expected)\n",
    "print(male_expected)"
   ]
  },
  {
   "cell_type": "code",
   "execution_count": 27,
   "metadata": {},
   "outputs": [
    {
     "name": "stdout",
     "output_type": "stream",
     "text": [
      "8.006\n"
     ]
    }
   ],
   "source": [
    "chi_square = 0    #computing chi_square value χ2=∑(O−E)2/E\n",
    "for i in range(len(female_survey)):\n",
    "    chi_square = chi_square + ((female_survey[i] - female_expected[i])**2)/female_expected[i]\n",
    "    chi_square = chi_square + ((male_survey[i] - male_expected[i])**2)/male_expected[i]\n",
    "print(round(chi_square,3))       #printing value"
   ]
  },
  {
   "cell_type": "code",
   "execution_count": 28,
   "metadata": {},
   "outputs": [
    {
     "name": "stdout",
     "output_type": "stream",
     "text": [
      "The critical value of χ2 with 3 degree of freedom is 7.815(using sci table). Since 8.006 > 7.815,\n",
      "      so we reject null hypothesis & conclude that education level depends on gender at a 5% level of significance.\n"
     ]
    }
   ],
   "source": [
    "#Comparing value of test statistic to critical value of χ2α with degree of freedom = (r - 1) (c - 1),\n",
    "#and reject null hypothesis if χ2>χ2α.\n",
    "print(\"\"\"The critical value of χ2 with 3 degree of freedom is 7.815(using sci table). Since 8.006 > 7.815,\n",
    "      so we reject null hypothesis & conclude that education level depends on gender at a 5% level of significance.\"\"\")"
   ]
  },
  {
   "cell_type": "code",
   "execution_count": 31,
   "metadata": {},
   "outputs": [
    {
     "name": "stdout",
     "output_type": "stream",
     "text": [
      "The result in APA format :\n",
      "F(2, 12)=9.75, p <0.05, η2=0.62\n"
     ]
    }
   ],
   "source": [
    "#2.Set up Null & Alternate Hypothesis \n",
    "#H0: μ1 = μ2 = μ3 \n",
    "#Ha: μ1 ≠ μ2 ≠ μ3  \n",
    "#We also specify rejection criteria.α = 0.05\n",
    "#Rejection criteria: K0.05 < F\n",
    "#This means that if critical value of F from tables is less than calculated value of F, we reject null hypothesis.\n",
    "\n",
    "#The degrees of freedom are calculated using given formula. \n",
    "#dftotal =  n - 1 = 15 - 1 = 14\n",
    "#dfwithin = n - k = 15 - 3 = 12\n",
    "#dfbetween = k - 1 = 3 - 1 = 2\n",
    "#It is verified that :    dftotal = dfbetween + dfwithin\n",
    "\n",
    "\"\"\"Refer excel file attached for below details :\"\"\"\n",
    "#Sample means (x¯) for the groups: = 48.2, 35.4, 69.8\n",
    "#Sum of squared deviations from the mean (SS) for the groups:  612.8 515.2 732.8\n",
    "var1 = 612.8/(5-1)      #variance of each group\n",
    "var2 = 515.2/(5-1)\n",
    "var3 = 732.8/(5-1)\n",
    "ms_error = (var1+var2+var3)/3      #mean of variance\n",
    "df_error = 15-3       #Calculating remaining error (or within) terms for ANOVA table:\n",
    "ss_error = ms_error/df_error \n",
    "grand_mean = (48.2+35.4+69.8)/3    #mean of all means\n",
    "ss_mean = 604.58      #Intermediate steps in calculating variance of sample means:\n",
    "var_mean = ss_mean/(3-1)\n",
    "ms_between = var_mean*5\n",
    "df_groups = 3-1      #Calculating remaining between (or group) terms of ANOVA table:\n",
    "ss_group = ms_between*df_groups\n",
    "\n",
    "F = ms_between/ms_error    #Test statistic & critical value\n",
    "\n",
    "\"\"\"Decision: reject H0 \"\"\"       #Fcritical(2,12)=3.89\n",
    "\n",
    "eta_square = ss_group/4883.7      #Effect size\n",
    "print(\"The result in APA format :\\nF(2, 12)=9.75, p <0.05, η2=\" + str(round(eta_square,2)))     #APA writeup"
   ]
  },
  {
   "cell_type": "code",
   "execution_count": 30,
   "metadata": {},
   "outputs": [
    {
     "name": "stdout",
     "output_type": "stream",
     "text": [
      "F test value is : 4.0\n"
     ]
    }
   ],
   "source": [
    "#3.Solution\n",
    "g1 = [10, 20, 30, 40, 50]    #given data\n",
    "g2 = [5, 10, 15, 20, 25]\n",
    "var_g1 = np.var(g1)       #computing variance of each group\n",
    "var_g2 = np.var(g2)\n",
    "f_test = var_g1/var_g2      #F Test = (variance of 10, 20,30,40,50) / (variance of 5, 10, 15, 20, 25) \n",
    "print(\"F test value is : \" + str(f_test))        #printing f_test value"
   ]
  },
  {
   "cell_type": "code",
   "execution_count": null,
   "metadata": {},
   "outputs": [],
   "source": []
  }
 ],
 "metadata": {
  "kernelspec": {
   "display_name": "Python 3",
   "language": "python",
   "name": "python3"
  },
  "language_info": {
   "codemirror_mode": {
    "name": "ipython",
    "version": 3
   },
   "file_extension": ".py",
   "mimetype": "text/x-python",
   "name": "python",
   "nbconvert_exporter": "python",
   "pygments_lexer": "ipython3",
   "version": "3.7.0"
  }
 },
 "nbformat": 4,
 "nbformat_minor": 2
}
